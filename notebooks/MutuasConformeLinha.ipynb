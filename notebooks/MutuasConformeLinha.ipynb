{
  "cells": [
    {
      "cell_type": "code",
      "execution_count": 1,
      "metadata": {},
      "outputs": [],
      "source": [
        "from numpy import np.sqrt, np.log\n",
        "from math import pi\n",
        "from numpy.linalg import np.linalg.inv\n",
        "\n",
        "\n",
        "v = 220 * np.sqrt(3)\n",
        "fp = [1]\n",
        "S = [120e3]\n",
        "\n",
        "## DIMENCIONAMENTO DAS INDUTANCIAS\n",
        "f=60 #frequencia da rede       ####ALTERAR####\n",
        "DI=8.01e-3   #Di�metro do condutor [m]\n",
        "RI=1.102      #Resist�ncia el�trica m�xima CA 60Hz 75�C [Ohm/km]\n",
        "rmgi=0.00308  #Raio m�dio geom�trico [m]\n",
        "Dotima=1.60\n",
        "ri=RI*1.609344 # transforma em ohm/milha \n",
        "rd=((pi)**2*f*10**(-4))/0.621371 #resistencia de terra ohm/milha \n",
        "GMRi=rmgi*3.28084 # transforma para P�S\n",
        "dij=1.6 #m distancia entre os condutores i e j ####ALTERAR####\n",
        "# escolhe dist�ncia entre cabos\n",
        "dij=Dotima  #m distancia entre os condutores i e j ####ALTERAR####\n",
        "Dij=dij*3.28084 # transforma em P�S\n",
        "h1=10.372 #distancia condutor mais alto da terra [m] ###ALTERAR####\n",
        "h=10.372 #distancia condutor mais alto da terra [m] ###ALTERAR####\n",
        "rti=10\n",
        "rtc=10\n",
        "#IMPEDANCIAS PR�PRIAS E MUTUAS\n",
        "zp = ri+rd+(0.12134j)*(np.log(1/GMRi)+7.93402) #OHM/milha\n",
        "Zp=zp*0.621371192 # tranfomada pra ohm/km\n",
        "zm = rd+(0.12134j)*(np.log(1/Dij)+7.93402) #OHM/milha\n",
        "Zm=zm*0.621371192 # tranfomada pra ohm/km\n",
        "# ## Aten��o\n",
        "# Zm=0 #########para teste da eq do CC\n",
        "#DIMENCIONAMENTO DAS CAPACITANCIAS SHUNT\n",
        "#Dois condutores\n",
        "Ri=(DI/2)*3.28084 #raio cond i pés\n",
        "Rj=(DI/2)*3.28084 #raio cond j pés\n",
        "#Distancias entre os condutores e suas imagens para dada config de poste\n",
        "sii=2*h #m\n",
        "Sii=sii*3.28084\n",
        "Sjj=Sii\n",
        "sij=np.sqrt(((dij)**2)+(sii**2)) #m\n",
        "Sij=sij*3.28084\n",
        "Sji=Sij\n",
        "#Calculo Coeficientes de potencias proprios e mutuos\n",
        "Pii= 11.17689*np.log(Sii/Ri)*10**6\n",
        "Pjj= 11.17689*np.log(Sjj/Rj)*10**6\n",
        "Pij= 11.17689*np.log(Sij/Dij)*10**6\n",
        "Pji= 11.17689*np.log(Sji/Dij)*10**6\n",
        "Mp=[[Pii,Pij],[Pji, Pjj]]\n",
        "C = np.linalg.inv(Mp) #capacitancias shunt\n",
        "C=C*0.621371192 # cconvertendo milha para km \n",
        "#capacitancias de balanceamento transversal\n",
        "Cct=C[0,0]+C[1,0] #C entre condutor e terra Farad/km\n",
        "Ccc=-C[1,0] #C entre condutores F/km\n",
        "Ceq=Cct-Ccc #capacitancia de equalização F/km\n",
        "#IMPEDANCIA DE COMPENSA��O\n",
        "Ze = Zp-2*Zm #OHM/km\n",
        "#IMPEDANCIAS S�RIE\n",
        "Zl = Zp-Zm #OHM/km\n",
        "dd =[60]\n",
        "\n",
        "for z in range(0,len(dd)):\n",
        "    d=dd[z]\n",
        "    cequa=Ceq*d\n",
        "    ccc=Ccc*d\n",
        "    cct=Cct*d\n",
        "    rp=Zp.real*d\n",
        "    rm=Zm.real*d\n",
        "    re=(Ze.real*d)-rti-rtc\n",
        "    if re<0:\n",
        "        NRE = 1e-12\n",
        "    else:\n",
        "        NRE = re\n",
        "    # rg=real(Zg)*d\n",
        "    lp=(Zp.imag/(2*pi*f))*d\n",
        "    lm=(Zm.imag/(2*pi*f))*d\n",
        "    le=1e-10#(imag(Ze)/(2*pi*f))*d\n",
        "    # lg=(imag(Zg)/(2*pi*f))*d\n"
      ]
    },
    {
      "cell_type": "code",
      "execution_count": 2,
      "metadata": {
        "id": "jFIalGAVRUxC"
      },
      "outputs": [
        {
          "data": {
            "text/plain": [
              "[[0.15034287408726554, 0.0753099605609765],\n",
              " [0.0753099605609765, 0.15034287408726554]]"
            ]
          },
          "execution_count": 2,
          "metadata": {},
          "output_type": "execute_result"
        }
      ],
      "source": [
        "[[lp, lm], [lm, lp]]"
      ]
    },
    {
      "cell_type": "code",
      "execution_count": 3,
      "metadata": {},
      "outputs": [
        {
          "data": {
            "text/plain": [
              "[[69.6730586570115, 3.553058682266154], [3.553058682266154, 69.6730586570115]]"
            ]
          },
          "execution_count": 3,
          "metadata": {},
          "output_type": "execute_result"
        }
      ],
      "source": [
        "[[rp, rm], [rm, rp]]"
      ]
    },
    {
      "cell_type": "code",
      "execution_count": 9,
      "metadata": {},
      "outputs": [],
      "source": [
        "from math import pi\n",
        "import numpy as np\n",
        "def PuxaTudo(DistanciaEscolhida):\n",
        "    v = 220 * np.sqrt(3)\n",
        "    fp = [1]\n",
        "    ## S = [120e3]\n",
        "    ## DIMENCIONAMENTO DAS INDUTANCIAS\n",
        "    f=60 #frequencia da rede       ####ALTERAR####\n",
        "    DI=8.01e-3   #Di�metro do condutor [m]\n",
        "    RI=1.102      #Resist�ncia el�trica m�xima CA 60Hz 75�C [Ohm/km]\n",
        "    rmgi=0.00308  #Raio m�dio geom�trico [m]\n",
        "    ri=RI*1.609344 # transforma em ohm/milha \n",
        "    rd=((pi)**2*f*10**(-4))/0.621371 #resistencia de terra ohm/milha \n",
        "    GMRi=rmgi*3.28084 # transforma para P�S\n",
        "    dij=0.74 #m distancia entre os condutores i e j ####ALTERAR####\n",
        "    # escolhe dist�ncia entre cabos\n",
        "    # dij=Dotima  #m distancia entre os condutores i e j ####ALTERAR####\n",
        "    Dij=dij*3.28084 # transforma em P�S\n",
        "    h1=10.372 #distancia condutor mais alto da terra [m] ###ALTERAR####\n",
        "    h=10.372 #distancia condutor mais alto da terra [m] ###ALTERAR####\n",
        "    rti=10\n",
        "    rtc=10\n",
        "    #IMPEDANCIAS PR�PRIAS E MUTUAS\n",
        "    zp = ri+rd+(0.12134j)*(np.log(1/GMRi)+7.93402) #OHM/milha\n",
        "    Zp=zp*0.621371192 # tranfomada pra ohm/km\n",
        "    zm = rd+(0.12134j)*(np.log(1/Dij)+7.93402) #OHM/milha\n",
        "    Zm=zm*0.621371192 # tranfomada pra ohm/km\n",
        "    # ## Aten��o\n",
        "    # Zm=0 #########para teste da eq do CC\n",
        "    #DIMENCIONAMENTO DAS CAPACITANCIAS SHUNT\n",
        "    #Dois condutores\n",
        "    Ri=(DI/2)*3.28084 #raio cond i pés\n",
        "    Rj=(DI/2)*3.28084 #raio cond j pés\n",
        "    #Distancias entre os condutores e suas imagens para dada config de poste\n",
        "    sii=2*h #m\n",
        "    Sii=sii*3.28084\n",
        "    Sjj=Sii\n",
        "    sij=np.sqrt(((dij)**2)+(sii**2)) #m\n",
        "    Sij=sij*3.28084\n",
        "    Sji=Sij\n",
        "    #Calculo Coeficientes de potencias proprios e mutuos\n",
        "    Pii= 11.17689*np.log(Sii/Ri)*10**6\n",
        "    Pjj= 11.17689*np.log(Sjj/Rj)*10**6\n",
        "    Pij= 11.17689*np.log(Sij/Dij)*10**6\n",
        "    Pji= 11.17689*np.log(Sji/Dij)*10**6\n",
        "    Mp=[[Pii,Pij],[Pji, Pjj]]\n",
        "    C = np.linalg.inv(Mp) #capacitancias shunt\n",
        "    C=C*0.621371192 # cconvertendo milha para km \n",
        "    #capacitancias de balanceamento transversal\n",
        "    Cct=C[0,0]+C[1,0] #C entre condutor e terra Farad/km\n",
        "    Ccc=-C[1,0] #C entre condutores F/km\n",
        "    Ceq=Cct-Ccc #capacitancia de equalização F/km\n",
        "    #IMPEDANCIA DE COMPENSA��O\n",
        "    Ze = Zp-2*Zm #OHM/km\n",
        "    #IMPEDANCIAS S�RIE\n",
        "    Zl = Zp-Zm #OHM/km\n",
        "    dd = [DistanciaEscolhida]\n",
        "\n",
        "    for z in range(len(dd)):\n",
        "        d=dd[z]\n",
        "        cequa=Ceq*d\n",
        "        ccc=Ccc*d\n",
        "        cct=Cct*d\n",
        "        rp=Zp.real*d\n",
        "        rm=Zm.real*d\n",
        "        re=(Ze.real*d)-rti-rtc\n",
        "        if re<0:\n",
        "            NRE = 1e-12\n",
        "        else:\n",
        "            NRE = re\n",
        "        # rg=real(Zg)*d\n",
        "        lp=(Zp.imag/(2*pi*f))*d\n",
        "        lm=(Zm.imag/(2*pi*f))*d\n",
        "        le=1e-10#(imag(Ze)/(2*pi*f))*d\n",
        "        # lg=(imag(Zg)/(2*pi*f))*d\n",
        "    return cequa,ccc, cct, lp, rp"
      ]
    },
    {
      "cell_type": "code",
      "execution_count": 10,
      "metadata": {},
      "outputs": [],
      "source": [
        "DistanciaEscolhida = 60 \n",
        "cequa,ccc, cct, lp, rp = PuxaTudo(DistanciaEscolhida)"
      ]
    },
    {
      "cell_type": "code",
      "execution_count": 11,
      "metadata": {},
      "outputs": [
        {
          "name": "stdout",
          "output_type": "stream",
          "text": [
            "1.0133867214846708e-07 1.7928778145591708e-07 2.8062645360438415e-07 0.15034287408726554 69.6730586570115\n"
          ]
        }
      ],
      "source": [
        "print(cequa, ccc, cct, lp, rp)"
      ]
    },
    {
      "cell_type": "code",
      "execution_count": null,
      "metadata": {},
      "outputs": [],
      "source": []
    }
  ],
  "metadata": {
    "colab": {
      "collapsed_sections": [],
      "name": "MutuasConformeLinha.ipynb",
      "provenance": []
    },
    "kernelspec": {
      "display_name": "Python 3.10.4 ('leonardo')",
      "language": "python",
      "name": "python3"
    },
    "language_info": {
      "codemirror_mode": {
        "name": "ipython",
        "version": 3
      },
      "file_extension": ".py",
      "mimetype": "text/x-python",
      "name": "python",
      "nbconvert_exporter": "python",
      "pygments_lexer": "ipython3",
      "version": "3.10.4"
    },
    "vscode": {
      "interpreter": {
        "hash": "48d91ef0141f01c13d8b2a362469f319f5e143c65794debaf6ed651306d80088"
      }
    }
  },
  "nbformat": 4,
  "nbformat_minor": 0
}
