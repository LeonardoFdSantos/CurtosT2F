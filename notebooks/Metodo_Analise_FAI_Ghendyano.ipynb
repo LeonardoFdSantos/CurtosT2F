{
 "cells": [
  {
   "cell_type": "code",
   "execution_count": 1,
   "outputs": [],
   "source": [
    "import pandas as pd\n",
    "import numpy as np"
   ],
   "metadata": {
    "collapsed": false,
    "pycharm": {
     "name": "#%%\n"
    }
   }
  },
  {
   "cell_type": "code",
   "execution_count": 2,
   "outputs": [],
   "source": [
    "ghendyano = pd.read_csv('../T2F_MATLAB/Variando_Resistencia/Ghendyano15.csv')\n",
    "ghendyanoTrif = pd.read_csv('../T2F_MATLAB/Variando_Resistencia/CorrenteTrif15.csv')"
   ],
   "metadata": {
    "collapsed": false,
    "pycharm": {
     "name": "#%%\n"
    }
   }
  },
  {
   "cell_type": "code",
   "execution_count": 3,
   "outputs": [
    {
     "data": {
      "text/plain": "         n  distancia   Raf     IA_T2F     IB_T2F     IC_T2F     IA_TRIF  \\\n0        1         10    10  29.359920  13.085240  42.036500  268.459800   \n1        2         10    20  28.721070  13.106910  41.451180  194.111800   \n2        3         10    30  28.104340  13.127670  40.885400  150.869200   \n3        4         10    40  27.508740  13.147590  40.338290  123.036900   \n4        5         10    50  26.933330  13.166720  39.809000  103.742700   \n...    ...        ...   ...        ...        ...        ...         ...   \n7795  7796        200  1960   8.304169  13.856282  17.526132    5.160097   \n7796  7797        200  1970   8.310312  13.856908  17.504014    5.155881   \n7797  7798        200  1980   8.316532  13.857529  17.482102    5.151729   \n7798  7799        200  1990   8.322826  13.858145  17.460392    5.147639   \n7799  7800        200  2000   8.329190  13.858755  17.438881    5.143611   \n\n       IB_TRIF   IC_TRIF  \n0     0.265695  0.234420  \n1     0.264370  0.236674  \n2     0.264086  0.237892  \n3     0.264082  0.238630  \n4     0.264159  0.239120  \n...        ...       ...  \n7795  5.426635  4.866321  \n7796  5.426602  4.866493  \n7797  5.426569  4.866663  \n7798  5.426536  4.866832  \n7799  5.426504  4.866999  \n\n[7800 rows x 9 columns]",
      "text/html": "<div>\n<style scoped>\n    .dataframe tbody tr th:only-of-type {\n        vertical-align: middle;\n    }\n\n    .dataframe tbody tr th {\n        vertical-align: top;\n    }\n\n    .dataframe thead th {\n        text-align: right;\n    }\n</style>\n<table border=\"1\" class=\"dataframe\">\n  <thead>\n    <tr style=\"text-align: right;\">\n      <th></th>\n      <th>n</th>\n      <th>distancia</th>\n      <th>Raf</th>\n      <th>IA_T2F</th>\n      <th>IB_T2F</th>\n      <th>IC_T2F</th>\n      <th>IA_TRIF</th>\n      <th>IB_TRIF</th>\n      <th>IC_TRIF</th>\n    </tr>\n  </thead>\n  <tbody>\n    <tr>\n      <th>0</th>\n      <td>1</td>\n      <td>10</td>\n      <td>10</td>\n      <td>29.359920</td>\n      <td>13.085240</td>\n      <td>42.036500</td>\n      <td>268.459800</td>\n      <td>0.265695</td>\n      <td>0.234420</td>\n    </tr>\n    <tr>\n      <th>1</th>\n      <td>2</td>\n      <td>10</td>\n      <td>20</td>\n      <td>28.721070</td>\n      <td>13.106910</td>\n      <td>41.451180</td>\n      <td>194.111800</td>\n      <td>0.264370</td>\n      <td>0.236674</td>\n    </tr>\n    <tr>\n      <th>2</th>\n      <td>3</td>\n      <td>10</td>\n      <td>30</td>\n      <td>28.104340</td>\n      <td>13.127670</td>\n      <td>40.885400</td>\n      <td>150.869200</td>\n      <td>0.264086</td>\n      <td>0.237892</td>\n    </tr>\n    <tr>\n      <th>3</th>\n      <td>4</td>\n      <td>10</td>\n      <td>40</td>\n      <td>27.508740</td>\n      <td>13.147590</td>\n      <td>40.338290</td>\n      <td>123.036900</td>\n      <td>0.264082</td>\n      <td>0.238630</td>\n    </tr>\n    <tr>\n      <th>4</th>\n      <td>5</td>\n      <td>10</td>\n      <td>50</td>\n      <td>26.933330</td>\n      <td>13.166720</td>\n      <td>39.809000</td>\n      <td>103.742700</td>\n      <td>0.264159</td>\n      <td>0.239120</td>\n    </tr>\n    <tr>\n      <th>...</th>\n      <td>...</td>\n      <td>...</td>\n      <td>...</td>\n      <td>...</td>\n      <td>...</td>\n      <td>...</td>\n      <td>...</td>\n      <td>...</td>\n      <td>...</td>\n    </tr>\n    <tr>\n      <th>7795</th>\n      <td>7796</td>\n      <td>200</td>\n      <td>1960</td>\n      <td>8.304169</td>\n      <td>13.856282</td>\n      <td>17.526132</td>\n      <td>5.160097</td>\n      <td>5.426635</td>\n      <td>4.866321</td>\n    </tr>\n    <tr>\n      <th>7796</th>\n      <td>7797</td>\n      <td>200</td>\n      <td>1970</td>\n      <td>8.310312</td>\n      <td>13.856908</td>\n      <td>17.504014</td>\n      <td>5.155881</td>\n      <td>5.426602</td>\n      <td>4.866493</td>\n    </tr>\n    <tr>\n      <th>7797</th>\n      <td>7798</td>\n      <td>200</td>\n      <td>1980</td>\n      <td>8.316532</td>\n      <td>13.857529</td>\n      <td>17.482102</td>\n      <td>5.151729</td>\n      <td>5.426569</td>\n      <td>4.866663</td>\n    </tr>\n    <tr>\n      <th>7798</th>\n      <td>7799</td>\n      <td>200</td>\n      <td>1990</td>\n      <td>8.322826</td>\n      <td>13.858145</td>\n      <td>17.460392</td>\n      <td>5.147639</td>\n      <td>5.426536</td>\n      <td>4.866832</td>\n    </tr>\n    <tr>\n      <th>7799</th>\n      <td>7800</td>\n      <td>200</td>\n      <td>2000</td>\n      <td>8.329190</td>\n      <td>13.858755</td>\n      <td>17.438881</td>\n      <td>5.143611</td>\n      <td>5.426504</td>\n      <td>4.866999</td>\n    </tr>\n  </tbody>\n</table>\n<p>7800 rows × 9 columns</p>\n</div>"
     },
     "execution_count": 3,
     "metadata": {},
     "output_type": "execute_result"
    }
   ],
   "source": [
    "ghendyano"
   ],
   "metadata": {
    "collapsed": false,
    "pycharm": {
     "name": "#%%\n"
    }
   }
  },
  {
   "cell_type": "code",
   "execution_count": 4,
   "outputs": [
    {
     "data": {
      "text/plain": "         n  distancia   Raf    IA_T2F     IB_T2F     IC_T2F     IA_TRIF  \\\n0        1         10    10  9.990247  31.699220  41.178330  268.459800   \n1        2         10    20  9.577849  31.384860  40.474070  194.111800   \n2        3         10    30  9.179451  31.080510  39.793820  150.869200   \n3        4         10    40  8.794420  30.785750  39.136500  123.036900   \n4        5         10    50  8.422160  30.500160  38.501070  103.742700   \n...    ...        ...   ...       ...        ...        ...         ...   \n7795  7796        200  1960  8.460182  17.600383  13.665422    5.160097   \n7796  7797        200  1970  8.480126  17.585065  13.648790    5.155881   \n7797  7798        200  1980  8.499911  17.569873  13.632372    5.151729   \n7798  7799        200  1990  8.519537  17.554805  13.616165    5.147639   \n7799  7800        200  2000  8.539008  17.539859  13.600165    5.143611   \n\n       IB_TRIF   IC_TRIF  \n0     0.265695  0.234420  \n1     0.264370  0.236674  \n2     0.264086  0.237892  \n3     0.264082  0.238630  \n4     0.264159  0.239120  \n...        ...       ...  \n7795  5.426635  4.866321  \n7796  5.426602  4.866493  \n7797  5.426569  4.866663  \n7798  5.426536  4.866832  \n7799  5.426504  4.866999  \n\n[7800 rows x 9 columns]",
      "text/html": "<div>\n<style scoped>\n    .dataframe tbody tr th:only-of-type {\n        vertical-align: middle;\n    }\n\n    .dataframe tbody tr th {\n        vertical-align: top;\n    }\n\n    .dataframe thead th {\n        text-align: right;\n    }\n</style>\n<table border=\"1\" class=\"dataframe\">\n  <thead>\n    <tr style=\"text-align: right;\">\n      <th></th>\n      <th>n</th>\n      <th>distancia</th>\n      <th>Raf</th>\n      <th>IA_T2F</th>\n      <th>IB_T2F</th>\n      <th>IC_T2F</th>\n      <th>IA_TRIF</th>\n      <th>IB_TRIF</th>\n      <th>IC_TRIF</th>\n    </tr>\n  </thead>\n  <tbody>\n    <tr>\n      <th>0</th>\n      <td>1</td>\n      <td>10</td>\n      <td>10</td>\n      <td>9.990247</td>\n      <td>31.699220</td>\n      <td>41.178330</td>\n      <td>268.459800</td>\n      <td>0.265695</td>\n      <td>0.234420</td>\n    </tr>\n    <tr>\n      <th>1</th>\n      <td>2</td>\n      <td>10</td>\n      <td>20</td>\n      <td>9.577849</td>\n      <td>31.384860</td>\n      <td>40.474070</td>\n      <td>194.111800</td>\n      <td>0.264370</td>\n      <td>0.236674</td>\n    </tr>\n    <tr>\n      <th>2</th>\n      <td>3</td>\n      <td>10</td>\n      <td>30</td>\n      <td>9.179451</td>\n      <td>31.080510</td>\n      <td>39.793820</td>\n      <td>150.869200</td>\n      <td>0.264086</td>\n      <td>0.237892</td>\n    </tr>\n    <tr>\n      <th>3</th>\n      <td>4</td>\n      <td>10</td>\n      <td>40</td>\n      <td>8.794420</td>\n      <td>30.785750</td>\n      <td>39.136500</td>\n      <td>123.036900</td>\n      <td>0.264082</td>\n      <td>0.238630</td>\n    </tr>\n    <tr>\n      <th>4</th>\n      <td>5</td>\n      <td>10</td>\n      <td>50</td>\n      <td>8.422160</td>\n      <td>30.500160</td>\n      <td>38.501070</td>\n      <td>103.742700</td>\n      <td>0.264159</td>\n      <td>0.239120</td>\n    </tr>\n    <tr>\n      <th>...</th>\n      <td>...</td>\n      <td>...</td>\n      <td>...</td>\n      <td>...</td>\n      <td>...</td>\n      <td>...</td>\n      <td>...</td>\n      <td>...</td>\n      <td>...</td>\n    </tr>\n    <tr>\n      <th>7795</th>\n      <td>7796</td>\n      <td>200</td>\n      <td>1960</td>\n      <td>8.460182</td>\n      <td>17.600383</td>\n      <td>13.665422</td>\n      <td>5.160097</td>\n      <td>5.426635</td>\n      <td>4.866321</td>\n    </tr>\n    <tr>\n      <th>7796</th>\n      <td>7797</td>\n      <td>200</td>\n      <td>1970</td>\n      <td>8.480126</td>\n      <td>17.585065</td>\n      <td>13.648790</td>\n      <td>5.155881</td>\n      <td>5.426602</td>\n      <td>4.866493</td>\n    </tr>\n    <tr>\n      <th>7797</th>\n      <td>7798</td>\n      <td>200</td>\n      <td>1980</td>\n      <td>8.499911</td>\n      <td>17.569873</td>\n      <td>13.632372</td>\n      <td>5.151729</td>\n      <td>5.426569</td>\n      <td>4.866663</td>\n    </tr>\n    <tr>\n      <th>7798</th>\n      <td>7799</td>\n      <td>200</td>\n      <td>1990</td>\n      <td>8.519537</td>\n      <td>17.554805</td>\n      <td>13.616165</td>\n      <td>5.147639</td>\n      <td>5.426536</td>\n      <td>4.866832</td>\n    </tr>\n    <tr>\n      <th>7799</th>\n      <td>7800</td>\n      <td>200</td>\n      <td>2000</td>\n      <td>8.539008</td>\n      <td>17.539859</td>\n      <td>13.600165</td>\n      <td>5.143611</td>\n      <td>5.426504</td>\n      <td>4.866999</td>\n    </tr>\n  </tbody>\n</table>\n<p>7800 rows × 9 columns</p>\n</div>"
     },
     "execution_count": 4,
     "metadata": {},
     "output_type": "execute_result"
    }
   ],
   "source": [
    "ghendyanoTrif"
   ],
   "metadata": {
    "collapsed": false,
    "pycharm": {
     "name": "#%%\n"
    }
   }
  },
  {
   "cell_type": "code",
   "execution_count": 5,
   "outputs": [],
   "source": [
    "ghendyano['Corrente Curto Trifasica Total'] = ghendyano['IA_TRIF']+ghendyano['IB_TRIF']+ghendyano['IC_TRIF']\n",
    "ghendyano['Corrente Curto T2F Total'] = ghendyano['IA_T2F']+ghendyano['IB_T2F']+ghendyano['IC_T2F']"
   ],
   "metadata": {
    "collapsed": false,
    "pycharm": {
     "name": "#%%\n"
    }
   }
  },
  {
   "cell_type": "code",
   "execution_count": 6,
   "outputs": [],
   "source": [
    "ghendyanoTrif['Corrente Curto Trifasica Total'] = ghendyanoTrif['IA_TRIF']+ghendyano['IB_TRIF']+ghendyanoTrif['IC_TRIF']\n",
    "ghendyanoTrif['Corrente Curto T2F Total'] = ghendyanoTrif['IA_T2F']+ghendyanoTrif['IB_T2F']+ghendyanoTrif['IC_T2F']"
   ],
   "metadata": {
    "collapsed": false,
    "pycharm": {
     "name": "#%%\n"
    }
   }
  },
  {
   "cell_type": "code",
   "execution_count": 7,
   "outputs": [],
   "source": [
    "localizacao_T2F = '../T2F_MATLAB/Variando_Resistencia/DadosT2F.xlsx'\n",
    "with pd.ExcelWriter(localizacao_T2F) as writer:\n",
    "    ghendyano.to_excel(writer, sheet_name='Ghendyano_FAI', index=False)\n",
    "    ghendyano.to_excel(writer, sheet_name='Ghendyano_FAI_TRIF', index=False)"
   ],
   "metadata": {
    "collapsed": false,
    "pycharm": {
     "name": "#%%\n"
    }
   }
  },
  {
   "cell_type": "code",
   "execution_count": null,
   "outputs": [],
   "source": [],
   "metadata": {
    "collapsed": false,
    "pycharm": {
     "name": "#%%\n"
    }
   }
  }
 ],
 "metadata": {
  "kernelspec": {
   "display_name": "Python 3",
   "language": "python",
   "name": "python3"
  },
  "language_info": {
   "codemirror_mode": {
    "name": "ipython",
    "version": 2
   },
   "file_extension": ".py",
   "mimetype": "text/x-python",
   "name": "python",
   "nbconvert_exporter": "python",
   "pygments_lexer": "ipython2",
   "version": "2.7.6"
  }
 },
 "nbformat": 4,
 "nbformat_minor": 0
}