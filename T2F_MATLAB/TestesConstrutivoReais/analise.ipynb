{
 "cells": [
  {
   "cell_type": "code",
   "execution_count": 1,
   "metadata": {
    "pycharm": {
     "name": "#%%\n"
    }
   },
   "outputs": [],
   "source": [
    "import numpy as np\n",
    "import pandas as pd"
   ]
  },
  {
   "cell_type": "code",
   "execution_count": 2,
   "metadata": {
    "pycharm": {
     "name": "#%%\n"
    }
   },
   "outputs": [],
   "source": [
    "dadosFimLinha = pd.read_csv('ResultadoFimLinha.csv')\n",
    "dadosMeioLinha1 = pd.read_csv('ResultadoMeioLinha1.csv')\n",
    "dadosMeioLinha2 = pd.read_csv('ResultadoMeioLinha2.csv')"
   ]
  },
  {
   "cell_type": "code",
   "execution_count": null,
   "metadata": {
    "pycharm": {
     "name": "#%%\n"
    }
   },
   "outputs": [],
   "source": [
    "dadosFimLinha"
   ]
  },
  {
   "cell_type": "code",
   "execution_count": null,
   "metadata": {
    "pycharm": {
     "name": "#%%\n"
    }
   },
   "outputs": [],
   "source": [
    "with pd.ExcelWriter('Dados.xlsx') as writer:  \n",
    "    dadosFimLinha.to_excel(writer, sheet_name='Fim Linha', index=False)\n",
    "    dadosMeioLinha1.to_excel(writer, sheet_name='Meio Linha 1', index=False)\n",
    "    dadosMeioLinha2.to_excel(writer, sheet_name='Meio Linha 2', index=False)"
   ]
  },
  {
   "cell_type": "code",
   "execution_count": 3,
   "outputs": [],
   "source": [
    "dadosGhendyanoT2F = pd.read_csv('TesteEloGhendy_16.csv')\n",
    "dadosGhendyanoT2FConsumidor = pd.read_csv('TesteEloGhendyConsumidor_16.csv')"
   ],
   "metadata": {
    "collapsed": false,
    "pycharm": {
     "name": "#%%\n"
    }
   }
  },
  {
   "cell_type": "code",
   "execution_count": 4,
   "outputs": [
    {
     "data": {
      "text/plain": "    index  valorFusivel  tipoCurto  I_A_Isolador  Tempo_A_Isolador  \\\n0       1             1          1      14.77250               inf   \n1       2             1          2       6.19442               inf   \n2       3             1          3       8.70597               inf   \n3       4             1          4      14.77250          1.697210   \n4       5             1          5       0.00000               inf   \n..    ...           ...        ...           ...               ...   \n65     66            14          1      88.15120               inf   \n66     67            14          2       0.00000               inf   \n67     68            14          3      58.40630               inf   \n68     69            14          4      88.15120          0.506214   \n69     70            14          5       0.00000               inf   \n\n    Tempo_Abertura_A_Isolador  I_B_Isolador  Tempo_B_Isolador  \\\n0                         inf      14.91460          1.659420   \n1                         inf       8.72445               inf   \n2                         inf      14.84200          1.678570   \n3                       2.772       6.19324               inf   \n4                         inf       0.00000               inf   \n..                        ...           ...               ...   \n65                        inf      93.91650          0.450429   \n66                        inf      59.82740               inf   \n67                        inf      92.29230          0.464619   \n68                      1.583       0.00000               inf   \n69                        inf       0.00000               inf   \n\n    Tempo_Abertura_B_Isolador  I_C_Isolador  ...  Tempo_Abertura_A1_Isolador  \\\n0                       2.733      14.69180  ...                         inf   \n1                         inf      14.76470  ...                         inf   \n2                       2.752       6.20734  ...                         inf   \n3                         inf       8.68980  ...                         inf   \n4                         inf       0.00000  ...                         inf   \n..                        ...           ...  ...                         ...   \n65                      1.525      90.35990  ...                         inf   \n66                        inf      91.92140  ...                         inf   \n67                      1.539       0.00000  ...                         inf   \n68                        inf      56.81730  ...                         inf   \n69                        inf       0.00000  ...                         inf   \n\n    I_B1_Isolador  Tempo_B1_Isolador  Tempo_Abertura_B1_Isolador  \\\n0         14.8716           1.670720                       2.744   \n1          0.0000                inf                         inf   \n2         13.5859                inf                         inf   \n3         12.0803                inf                         inf   \n4          0.0000                inf                         inf   \n..            ...                ...                         ...   \n65        91.3304           0.473544                       1.549   \n66         0.0000                inf                         inf   \n67        85.4776                inf                         inf   \n68        72.4335                inf                         inf   \n69         0.0000                inf                         inf   \n\n    I_A_Consumidor  Tempo_A_Consumidor  Tempo_Abertura_A_Consumidor  \\\n0                0                 inf                          inf   \n1                0                 inf                          inf   \n2                0                 inf                          inf   \n3                0                 inf                          inf   \n4                0                 inf                          inf   \n..             ...                 ...                          ...   \n65               0                 inf                          inf   \n66               0                 inf                          inf   \n67               0                 inf                          inf   \n68               0                 inf                          inf   \n69               0                 inf                          inf   \n\n    I_B_Consumidor  Tempo_B_Consumidor  Tempo_Abertura_B_Consumidor  \n0                0                 inf                          inf  \n1                0                 inf                          inf  \n2                0                 inf                          inf  \n3                0                 inf                          inf  \n4                0                 inf                          inf  \n..             ...                 ...                          ...  \n65               0                 inf                          inf  \n66               0                 inf                          inf  \n67               0                 inf                          inf  \n68               0                 inf                          inf  \n69               0                 inf                          inf  \n\n[70 rows x 24 columns]",
      "text/html": "<div>\n<style scoped>\n    .dataframe tbody tr th:only-of-type {\n        vertical-align: middle;\n    }\n\n    .dataframe tbody tr th {\n        vertical-align: top;\n    }\n\n    .dataframe thead th {\n        text-align: right;\n    }\n</style>\n<table border=\"1\" class=\"dataframe\">\n  <thead>\n    <tr style=\"text-align: right;\">\n      <th></th>\n      <th>index</th>\n      <th>valorFusivel</th>\n      <th>tipoCurto</th>\n      <th>I_A_Isolador</th>\n      <th>Tempo_A_Isolador</th>\n      <th>Tempo_Abertura_A_Isolador</th>\n      <th>I_B_Isolador</th>\n      <th>Tempo_B_Isolador</th>\n      <th>Tempo_Abertura_B_Isolador</th>\n      <th>I_C_Isolador</th>\n      <th>...</th>\n      <th>Tempo_Abertura_A1_Isolador</th>\n      <th>I_B1_Isolador</th>\n      <th>Tempo_B1_Isolador</th>\n      <th>Tempo_Abertura_B1_Isolador</th>\n      <th>I_A_Consumidor</th>\n      <th>Tempo_A_Consumidor</th>\n      <th>Tempo_Abertura_A_Consumidor</th>\n      <th>I_B_Consumidor</th>\n      <th>Tempo_B_Consumidor</th>\n      <th>Tempo_Abertura_B_Consumidor</th>\n    </tr>\n  </thead>\n  <tbody>\n    <tr>\n      <th>0</th>\n      <td>1</td>\n      <td>1</td>\n      <td>1</td>\n      <td>14.77250</td>\n      <td>inf</td>\n      <td>inf</td>\n      <td>14.91460</td>\n      <td>1.659420</td>\n      <td>2.733</td>\n      <td>14.69180</td>\n      <td>...</td>\n      <td>inf</td>\n      <td>14.8716</td>\n      <td>1.670720</td>\n      <td>2.744</td>\n      <td>0</td>\n      <td>inf</td>\n      <td>inf</td>\n      <td>0</td>\n      <td>inf</td>\n      <td>inf</td>\n    </tr>\n    <tr>\n      <th>1</th>\n      <td>2</td>\n      <td>1</td>\n      <td>2</td>\n      <td>6.19442</td>\n      <td>inf</td>\n      <td>inf</td>\n      <td>8.72445</td>\n      <td>inf</td>\n      <td>inf</td>\n      <td>14.76470</td>\n      <td>...</td>\n      <td>inf</td>\n      <td>0.0000</td>\n      <td>inf</td>\n      <td>inf</td>\n      <td>0</td>\n      <td>inf</td>\n      <td>inf</td>\n      <td>0</td>\n      <td>inf</td>\n      <td>inf</td>\n    </tr>\n    <tr>\n      <th>2</th>\n      <td>3</td>\n      <td>1</td>\n      <td>3</td>\n      <td>8.70597</td>\n      <td>inf</td>\n      <td>inf</td>\n      <td>14.84200</td>\n      <td>1.678570</td>\n      <td>2.752</td>\n      <td>6.20734</td>\n      <td>...</td>\n      <td>inf</td>\n      <td>13.5859</td>\n      <td>inf</td>\n      <td>inf</td>\n      <td>0</td>\n      <td>inf</td>\n      <td>inf</td>\n      <td>0</td>\n      <td>inf</td>\n      <td>inf</td>\n    </tr>\n    <tr>\n      <th>3</th>\n      <td>4</td>\n      <td>1</td>\n      <td>4</td>\n      <td>14.77250</td>\n      <td>1.697210</td>\n      <td>2.772</td>\n      <td>6.19324</td>\n      <td>inf</td>\n      <td>inf</td>\n      <td>8.68980</td>\n      <td>...</td>\n      <td>inf</td>\n      <td>12.0803</td>\n      <td>inf</td>\n      <td>inf</td>\n      <td>0</td>\n      <td>inf</td>\n      <td>inf</td>\n      <td>0</td>\n      <td>inf</td>\n      <td>inf</td>\n    </tr>\n    <tr>\n      <th>4</th>\n      <td>5</td>\n      <td>1</td>\n      <td>5</td>\n      <td>0.00000</td>\n      <td>inf</td>\n      <td>inf</td>\n      <td>0.00000</td>\n      <td>inf</td>\n      <td>inf</td>\n      <td>0.00000</td>\n      <td>...</td>\n      <td>inf</td>\n      <td>0.0000</td>\n      <td>inf</td>\n      <td>inf</td>\n      <td>0</td>\n      <td>inf</td>\n      <td>inf</td>\n      <td>0</td>\n      <td>inf</td>\n      <td>inf</td>\n    </tr>\n    <tr>\n      <th>...</th>\n      <td>...</td>\n      <td>...</td>\n      <td>...</td>\n      <td>...</td>\n      <td>...</td>\n      <td>...</td>\n      <td>...</td>\n      <td>...</td>\n      <td>...</td>\n      <td>...</td>\n      <td>...</td>\n      <td>...</td>\n      <td>...</td>\n      <td>...</td>\n      <td>...</td>\n      <td>...</td>\n      <td>...</td>\n      <td>...</td>\n      <td>...</td>\n      <td>...</td>\n      <td>...</td>\n    </tr>\n    <tr>\n      <th>65</th>\n      <td>66</td>\n      <td>14</td>\n      <td>1</td>\n      <td>88.15120</td>\n      <td>inf</td>\n      <td>inf</td>\n      <td>93.91650</td>\n      <td>0.450429</td>\n      <td>1.525</td>\n      <td>90.35990</td>\n      <td>...</td>\n      <td>inf</td>\n      <td>91.3304</td>\n      <td>0.473544</td>\n      <td>1.549</td>\n      <td>0</td>\n      <td>inf</td>\n      <td>inf</td>\n      <td>0</td>\n      <td>inf</td>\n      <td>inf</td>\n    </tr>\n    <tr>\n      <th>66</th>\n      <td>67</td>\n      <td>14</td>\n      <td>2</td>\n      <td>0.00000</td>\n      <td>inf</td>\n      <td>inf</td>\n      <td>59.82740</td>\n      <td>inf</td>\n      <td>inf</td>\n      <td>91.92140</td>\n      <td>...</td>\n      <td>inf</td>\n      <td>0.0000</td>\n      <td>inf</td>\n      <td>inf</td>\n      <td>0</td>\n      <td>inf</td>\n      <td>inf</td>\n      <td>0</td>\n      <td>inf</td>\n      <td>inf</td>\n    </tr>\n    <tr>\n      <th>67</th>\n      <td>68</td>\n      <td>14</td>\n      <td>3</td>\n      <td>58.40630</td>\n      <td>inf</td>\n      <td>inf</td>\n      <td>92.29230</td>\n      <td>0.464619</td>\n      <td>1.539</td>\n      <td>0.00000</td>\n      <td>...</td>\n      <td>inf</td>\n      <td>85.4776</td>\n      <td>inf</td>\n      <td>inf</td>\n      <td>0</td>\n      <td>inf</td>\n      <td>inf</td>\n      <td>0</td>\n      <td>inf</td>\n      <td>inf</td>\n    </tr>\n    <tr>\n      <th>68</th>\n      <td>69</td>\n      <td>14</td>\n      <td>4</td>\n      <td>88.15120</td>\n      <td>0.506214</td>\n      <td>1.583</td>\n      <td>0.00000</td>\n      <td>inf</td>\n      <td>inf</td>\n      <td>56.81730</td>\n      <td>...</td>\n      <td>inf</td>\n      <td>72.4335</td>\n      <td>inf</td>\n      <td>inf</td>\n      <td>0</td>\n      <td>inf</td>\n      <td>inf</td>\n      <td>0</td>\n      <td>inf</td>\n      <td>inf</td>\n    </tr>\n    <tr>\n      <th>69</th>\n      <td>70</td>\n      <td>14</td>\n      <td>5</td>\n      <td>0.00000</td>\n      <td>inf</td>\n      <td>inf</td>\n      <td>0.00000</td>\n      <td>inf</td>\n      <td>inf</td>\n      <td>0.00000</td>\n      <td>...</td>\n      <td>inf</td>\n      <td>0.0000</td>\n      <td>inf</td>\n      <td>inf</td>\n      <td>0</td>\n      <td>inf</td>\n      <td>inf</td>\n      <td>0</td>\n      <td>inf</td>\n      <td>inf</td>\n    </tr>\n  </tbody>\n</table>\n<p>70 rows × 24 columns</p>\n</div>"
     },
     "execution_count": 4,
     "metadata": {},
     "output_type": "execute_result"
    }
   ],
   "source": [
    "dadosGhendyanoT2F"
   ],
   "metadata": {
    "collapsed": false,
    "pycharm": {
     "name": "#%%\n"
    }
   }
  },
  {
   "cell_type": "code",
   "execution_count": 5,
   "outputs": [
    {
     "data": {
      "text/plain": "Index(['index', 'valorFusivel', 'tipoCurto', 'I_A_Isolador',\n       'Tempo_A_Isolador', 'Tempo_Abertura_A_Isolador', 'I_B_Isolador',\n       'Tempo_B_Isolador', 'Tempo_Abertura_B_Isolador', 'I_C_Isolador',\n       'Tempo_C_Isolador', 'Tempo_Abertura_C_Isolador', 'I_A1_Isolador',\n       'Tempo_A1_Isolador', 'Tempo_Abertura_A1_Isolador', 'I_B1_Isolador',\n       'Tempo_B1_Isolador', 'Tempo_Abertura_B1_Isolador', 'I_A_Consumidor',\n       'Tempo_A_Consumidor', 'Tempo_Abertura_A_Consumidor', 'I_B_Consumidor',\n       'Tempo_B_Consumidor', 'Tempo_Abertura_B_Consumidor'],\n      dtype='object')"
     },
     "execution_count": 5,
     "metadata": {},
     "output_type": "execute_result"
    }
   ],
   "source": [
    "dadosGhendyanoT2F.columns"
   ],
   "metadata": {
    "collapsed": false,
    "pycharm": {
     "name": "#%%\n"
    }
   }
  },
  {
   "cell_type": "code",
   "execution_count": 15,
   "outputs": [],
   "source": [],
   "metadata": {
    "collapsed": false,
    "pycharm": {
     "name": "#%%\n"
    }
   }
  },
  {
   "cell_type": "code",
   "execution_count": 22,
   "outputs": [
    {
     "ename": "TypeError",
     "evalue": "NDFrame._add_numeric_operations.<locals>.max() takes from 1 to 5 positional arguments but 8 were given",
     "output_type": "error",
     "traceback": [
      "\u001B[1;31m---------------------------------------------------------------------------\u001B[0m",
      "\u001B[1;31mTypeError\u001B[0m                                 Traceback (most recent call last)",
      "Input \u001B[1;32mIn [22]\u001B[0m, in \u001B[0;36m<cell line: 1>\u001B[1;34m()\u001B[0m\n\u001B[1;32m----> 1\u001B[0m dadosGhendyanoT2F[\u001B[38;5;124m'\u001B[39m\u001B[38;5;124mTempos_Maximos_Retirada_Falha\u001B[39m\u001B[38;5;124m'\u001B[39m] \u001B[38;5;241m=\u001B[39m \u001B[43mdadosGhendyanoT2F\u001B[49m\u001B[38;5;241;43m.\u001B[39;49m\u001B[43mmax\u001B[49m\u001B[43m(\u001B[49m\u001B[43mdadosGhendyanoT2F\u001B[49m\u001B[43m[\u001B[49m\u001B[38;5;124;43m'\u001B[39;49m\u001B[38;5;124;43mTempo_Abertura_A_Isolador\u001B[39;49m\u001B[38;5;124;43m'\u001B[39;49m\u001B[43m]\u001B[49m\u001B[43m,\u001B[49m\u001B[43mdadosGhendyanoT2F\u001B[49m\u001B[43m[\u001B[49m\u001B[38;5;124;43m'\u001B[39;49m\u001B[38;5;124;43mTempo_Abertura_B_Isolador\u001B[39;49m\u001B[38;5;124;43m'\u001B[39;49m\u001B[43m]\u001B[49m\u001B[43m,\u001B[49m\u001B[43m \u001B[49m\u001B[43mdadosGhendyanoT2F\u001B[49m\u001B[43m[\u001B[49m\u001B[38;5;124;43m'\u001B[39;49m\u001B[38;5;124;43mTempo_Abertura_C_Isolador\u001B[39;49m\u001B[38;5;124;43m'\u001B[39;49m\u001B[43m]\u001B[49m\u001B[43m,\u001B[49m\u001B[43m \u001B[49m\u001B[43mdadosGhendyanoT2F\u001B[49m\u001B[43m[\u001B[49m\u001B[38;5;124;43m'\u001B[39;49m\u001B[38;5;124;43mTempo_Abertura_A1_Isolador\u001B[39;49m\u001B[38;5;124;43m'\u001B[39;49m\u001B[43m]\u001B[49m\u001B[43m,\u001B[49m\u001B[43mdadosGhendyanoT2F\u001B[49m\u001B[43m[\u001B[49m\u001B[38;5;124;43m'\u001B[39;49m\u001B[38;5;124;43mTempo_Abertura_B1_Isolador\u001B[39;49m\u001B[38;5;124;43m'\u001B[39;49m\u001B[43m]\u001B[49m\u001B[43m,\u001B[49m\u001B[43m \u001B[49m\u001B[43mdadosGhendyanoT2F\u001B[49m\u001B[43m[\u001B[49m\u001B[38;5;124;43m'\u001B[39;49m\u001B[38;5;124;43mTempo_Abertura_A_Consumidor\u001B[39;49m\u001B[38;5;124;43m'\u001B[39;49m\u001B[43m]\u001B[49m\u001B[43m,\u001B[49m\u001B[43m \u001B[49m\u001B[43mdadosGhendyanoT2F\u001B[49m\u001B[43m[\u001B[49m\u001B[38;5;124;43m'\u001B[39;49m\u001B[38;5;124;43mTempo_Abertura_B_Consumidor\u001B[39;49m\u001B[38;5;124;43m'\u001B[39;49m\u001B[43m]\u001B[49m\u001B[43m)\u001B[49m\n",
      "\u001B[1;31mTypeError\u001B[0m: NDFrame._add_numeric_operations.<locals>.max() takes from 1 to 5 positional arguments but 8 were given"
     ]
    }
   ],
   "source": [
    "dadosGhendyanoT2F['Tempos_Maximos_Retirada_Falha'] = dadosGhendyanoT2F.max(dadosGhendyanoT2F['Tempo_Abertura_A_Isolador'],dadosGhendyanoT2F['Tempo_Abertura_B_Isolador'], dadosGhendyanoT2F['Tempo_Abertura_C_Isolador'], dadosGhendyanoT2F['Tempo_Abertura_A1_Isolador'],dadosGhendyanoT2F['Tempo_Abertura_B1_Isolador'], dadosGhendyanoT2F['Tempo_Abertura_A_Consumidor'], dadosGhendyanoT2F['Tempo_Abertura_B_Consumidor'])"
   ],
   "metadata": {
    "collapsed": false,
    "pycharm": {
     "name": "#%%\n"
    }
   }
  },
  {
   "cell_type": "code",
   "execution_count": null,
   "outputs": [],
   "source": [],
   "metadata": {
    "collapsed": false,
    "pycharm": {
     "name": "#%%\n"
    }
   }
  }
 ],
 "metadata": {
  "kernelspec": {
   "display_name": "Python 3.10.4 ('leonardo')",
   "language": "python",
   "name": "python3"
  },
  "language_info": {
   "codemirror_mode": {
    "name": "ipython",
    "version": 3
   },
   "file_extension": ".py",
   "mimetype": "text/x-python",
   "name": "python",
   "nbconvert_exporter": "python",
   "pygments_lexer": "ipython3",
   "version": "3.10.4"
  },
  "orig_nbformat": 4,
  "vscode": {
   "interpreter": {
    "hash": "48d91ef0141f01c13d8b2a362469f319f5e143c65794debaf6ed651306d80088"
   }
  }
 },
 "nbformat": 4,
 "nbformat_minor": 2
}