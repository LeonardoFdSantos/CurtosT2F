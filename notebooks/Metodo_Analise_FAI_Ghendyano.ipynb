{
 "cells": [
  {
   "cell_type": "code",
   "execution_count": 1,
   "outputs": [],
   "source": [
    "import pandas as pd\n",
    "import numpy as np"
   ],
   "metadata": {
    "collapsed": false,
    "pycharm": {
     "name": "#%%\n"
    }
   }
  },
  {
   "cell_type": "code",
   "execution_count": 2,
   "outputs": [],
   "source": [
    "ghendyano = pd.read_csv('../T2F_MATLAB/Variando_Resistencia/Ghendyano4.csv')"
   ],
   "metadata": {
    "collapsed": false,
    "pycharm": {
     "name": "#%%\n"
    }
   }
  },
  {
   "cell_type": "code",
   "execution_count": 3,
   "outputs": [
    {
     "data": {
      "text/plain": "      n   Raf     IA_T2F    IB_T2F     IC_T2F    IA_TRIF   IB_TRIF   IC_TRIF\n0     1    10  62.581200  0.000009  62.581200  66.427000  1.644060  1.372550\n1     2    20  59.873600  0.000009  59.873600  61.160200  1.634330  1.378420\n2     3    30  57.340500  0.000009  57.340500  56.535700  1.626610  1.383720\n3     4    40  54.972500  0.000009  54.972500  52.471700  1.620450  1.388460\n4     5    50  52.759600  0.000009  52.759600  48.890400  1.615510  1.392670\n..  ...   ...        ...       ...        ...        ...       ...       ...\n95   96   960  10.242260  0.000009  10.242260   6.308030  1.590887  1.440570\n96   97   970  10.150430  0.000009  10.150430   6.249437  1.590896  1.440630\n97   98   980  10.060220  0.000009  10.060220   6.191986  1.590905  1.440688\n98   99   990   9.971592  0.000009   9.971588   6.135644  1.590914  1.440745\n99  100  1000   9.884505  0.000009   9.884501   6.080381  1.590923  1.440802\n\n[100 rows x 8 columns]",
      "text/html": "<div>\n<style scoped>\n    .dataframe tbody tr th:only-of-type {\n        vertical-align: middle;\n    }\n\n    .dataframe tbody tr th {\n        vertical-align: top;\n    }\n\n    .dataframe thead th {\n        text-align: right;\n    }\n</style>\n<table border=\"1\" class=\"dataframe\">\n  <thead>\n    <tr style=\"text-align: right;\">\n      <th></th>\n      <th>n</th>\n      <th>Raf</th>\n      <th>IA_T2F</th>\n      <th>IB_T2F</th>\n      <th>IC_T2F</th>\n      <th>IA_TRIF</th>\n      <th>IB_TRIF</th>\n      <th>IC_TRIF</th>\n    </tr>\n  </thead>\n  <tbody>\n    <tr>\n      <th>0</th>\n      <td>1</td>\n      <td>10</td>\n      <td>62.581200</td>\n      <td>0.000009</td>\n      <td>62.581200</td>\n      <td>66.427000</td>\n      <td>1.644060</td>\n      <td>1.372550</td>\n    </tr>\n    <tr>\n      <th>1</th>\n      <td>2</td>\n      <td>20</td>\n      <td>59.873600</td>\n      <td>0.000009</td>\n      <td>59.873600</td>\n      <td>61.160200</td>\n      <td>1.634330</td>\n      <td>1.378420</td>\n    </tr>\n    <tr>\n      <th>2</th>\n      <td>3</td>\n      <td>30</td>\n      <td>57.340500</td>\n      <td>0.000009</td>\n      <td>57.340500</td>\n      <td>56.535700</td>\n      <td>1.626610</td>\n      <td>1.383720</td>\n    </tr>\n    <tr>\n      <th>3</th>\n      <td>4</td>\n      <td>40</td>\n      <td>54.972500</td>\n      <td>0.000009</td>\n      <td>54.972500</td>\n      <td>52.471700</td>\n      <td>1.620450</td>\n      <td>1.388460</td>\n    </tr>\n    <tr>\n      <th>4</th>\n      <td>5</td>\n      <td>50</td>\n      <td>52.759600</td>\n      <td>0.000009</td>\n      <td>52.759600</td>\n      <td>48.890400</td>\n      <td>1.615510</td>\n      <td>1.392670</td>\n    </tr>\n    <tr>\n      <th>...</th>\n      <td>...</td>\n      <td>...</td>\n      <td>...</td>\n      <td>...</td>\n      <td>...</td>\n      <td>...</td>\n      <td>...</td>\n      <td>...</td>\n    </tr>\n    <tr>\n      <th>95</th>\n      <td>96</td>\n      <td>960</td>\n      <td>10.242260</td>\n      <td>0.000009</td>\n      <td>10.242260</td>\n      <td>6.308030</td>\n      <td>1.590887</td>\n      <td>1.440570</td>\n    </tr>\n    <tr>\n      <th>96</th>\n      <td>97</td>\n      <td>970</td>\n      <td>10.150430</td>\n      <td>0.000009</td>\n      <td>10.150430</td>\n      <td>6.249437</td>\n      <td>1.590896</td>\n      <td>1.440630</td>\n    </tr>\n    <tr>\n      <th>97</th>\n      <td>98</td>\n      <td>980</td>\n      <td>10.060220</td>\n      <td>0.000009</td>\n      <td>10.060220</td>\n      <td>6.191986</td>\n      <td>1.590905</td>\n      <td>1.440688</td>\n    </tr>\n    <tr>\n      <th>98</th>\n      <td>99</td>\n      <td>990</td>\n      <td>9.971592</td>\n      <td>0.000009</td>\n      <td>9.971588</td>\n      <td>6.135644</td>\n      <td>1.590914</td>\n      <td>1.440745</td>\n    </tr>\n    <tr>\n      <th>99</th>\n      <td>100</td>\n      <td>1000</td>\n      <td>9.884505</td>\n      <td>0.000009</td>\n      <td>9.884501</td>\n      <td>6.080381</td>\n      <td>1.590923</td>\n      <td>1.440802</td>\n    </tr>\n  </tbody>\n</table>\n<p>100 rows × 8 columns</p>\n</div>"
     },
     "execution_count": 3,
     "metadata": {},
     "output_type": "execute_result"
    }
   ],
   "source": [
    "ghendyano"
   ],
   "metadata": {
    "collapsed": false,
    "pycharm": {
     "name": "#%%\n"
    }
   }
  },
  {
   "cell_type": "code",
   "execution_count": 4,
   "outputs": [],
   "source": [
    "ghendyano['Corrente Curto Trifasica Total'] = ghendyano['IA_TRIF']+ghendyano['IB_TRIF']+ghendyano['IC_TRIF']\n",
    "ghendyano['Corrente Curto T2F Total'] = ghendyano['IA_T2F']+ghendyano['IB_T2F']+ghendyano['IC_T2F']"
   ],
   "metadata": {
    "collapsed": false,
    "pycharm": {
     "name": "#%%\n"
    }
   }
  },
  {
   "cell_type": "code",
   "execution_count": 8,
   "outputs": [],
   "source": [
    "localizacao_T2F = '../T2F_MATLAB/Variando_Resistencia/DadosT2F.xlsx'\n",
    "with pd.ExcelWriter(localizacao_T2F) as writer:\n",
    "    ghendyano.to_excel(writer, sheet_name='Ghendyano_FAI', index=False)"
   ],
   "metadata": {
    "collapsed": false,
    "pycharm": {
     "name": "#%%\n"
    }
   }
  },
  {
   "cell_type": "code",
   "execution_count": null,
   "outputs": [],
   "source": [],
   "metadata": {
    "collapsed": false,
    "pycharm": {
     "name": "#%%\n"
    }
   }
  }
 ],
 "metadata": {
  "kernelspec": {
   "display_name": "Python 3",
   "language": "python",
   "name": "python3"
  },
  "language_info": {
   "codemirror_mode": {
    "name": "ipython",
    "version": 2
   },
   "file_extension": ".py",
   "mimetype": "text/x-python",
   "name": "python",
   "nbconvert_exporter": "python",
   "pygments_lexer": "ipython2",
   "version": "2.7.6"
  }
 },
 "nbformat": 4,
 "nbformat_minor": 0
}